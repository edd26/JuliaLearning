{
 "cells": [
  {
   "cell_type": "code",
   "execution_count": 1,
   "metadata": {},
   "outputs": [],
   "source": [
    "using ComputationalHomology"
   ]
  },
  {
   "cell_type": "code",
   "execution_count": 3,
   "metadata": {},
   "outputs": [
    {
     "data": {
      "text/latex": [
       "No documentation found.\n",
       "\n",
       "\\texttt{ComputationalHomology.Simplex} is of type \\texttt{UnionAll}.\n",
       "\n",
       "\\section{Summary}\n",
       "\\begin{verbatim}\n",
       "struct UnionAll <: Type{T}\n",
       "\\end{verbatim}\n",
       "\\section{Fields}\n",
       "\\begin{verbatim}\n",
       "var  :: TypeVar\n",
       "body :: Any\n",
       "\\end{verbatim}\n",
       "\\section{Supertype Hierarchy}\n",
       "\\begin{verbatim}\n",
       "UnionAll <: Type{T} <: Any\n",
       "\\end{verbatim}\n"
      ],
      "text/markdown": [
       "No documentation found.\n",
       "\n",
       "`ComputationalHomology.Simplex` is of type `UnionAll`.\n",
       "\n",
       "# Summary\n",
       "\n",
       "```\n",
       "struct UnionAll <: Type{T}\n",
       "```\n",
       "\n",
       "# Fields\n",
       "\n",
       "```\n",
       "var  :: TypeVar\n",
       "body :: Any\n",
       "```\n",
       "\n",
       "# Supertype Hierarchy\n",
       "\n",
       "```\n",
       "UnionAll <: Type{T} <: Any\n",
       "```\n"
      ],
      "text/plain": [
       "  No documentation found.\n",
       "\n",
       "  \u001b[36mComputationalHomology.Simplex\u001b[39m is of type \u001b[36mUnionAll\u001b[39m.\n",
       "\n",
       "\u001b[1m  Summary\u001b[22m\n",
       "\u001b[1m  ≡≡≡≡≡≡≡≡≡\u001b[22m\n",
       "\n",
       "\u001b[36m  struct UnionAll <: Type{T}\u001b[39m\n",
       "\n",
       "\u001b[1m  Fields\u001b[22m\n",
       "\u001b[1m  ≡≡≡≡≡≡≡≡\u001b[22m\n",
       "\n",
       "\u001b[36m  var  :: TypeVar\u001b[39m\n",
       "\u001b[36m  body :: Any\u001b[39m\n",
       "\n",
       "\u001b[1m  Supertype Hierarchy\u001b[22m\n",
       "\u001b[1m  ≡≡≡≡≡≡≡≡≡≡≡≡≡≡≡≡≡≡≡≡≡\u001b[22m\n",
       "\n",
       "\u001b[36m  UnionAll <: Type{T} <: Any\u001b[39m"
      ]
     },
     "execution_count": 3,
     "metadata": {},
     "output_type": "execute_result"
    }
   ],
   "source": [
    "? ComputationalHomology.Simplex"
   ]
  },
  {
   "cell_type": "code",
   "execution_count": 4,
   "metadata": {},
   "outputs": [
    {
     "ename": "UndefVarError",
     "evalue": "UndefVarError: circlepoints not defined",
     "output_type": "error",
     "traceback": [
      "UndefVarError: circlepoints not defined",
      "",
      "Stacktrace:",
      " [1] getproperty(::Module, ::Symbol) at ./Base.jl:13",
      " [2] top-level scope at In[4]:2"
     ]
    }
   ],
   "source": []
  },
  {
   "cell_type": "code",
   "execution_count": null,
   "metadata": {},
   "outputs": [],
   "source": []
  }
 ],
 "metadata": {
  "kernelspec": {
   "display_name": "Julia 1.3.0-DEV",
   "language": "julia",
   "name": "julia-1.3"
  },
  "language_info": {
   "file_extension": ".jl",
   "mimetype": "application/julia",
   "name": "julia",
   "version": "1.3.0"
  }
 },
 "nbformat": 4,
 "nbformat_minor": 2
}
